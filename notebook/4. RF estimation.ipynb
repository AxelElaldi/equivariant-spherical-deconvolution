{
 "cells": [
  {
   "cell_type": "code",
   "execution_count": 1,
   "metadata": {},
   "outputs": [],
   "source": [
    "import os"
   ]
  },
  {
   "cell_type": "code",
   "execution_count": 2,
   "metadata": {},
   "outputs": [],
   "source": [
    "os.chdir('../') # Change working directory to root repository path"
   ]
  },
  {
   "cell_type": "code",
   "execution_count": 5,
   "metadata": {},
   "outputs": [],
   "source": [
    "root_path = '/mnt/archive/data/synthetic_data' # Replace with path where data will be saved\n",
    "scheme = '64_points_3_shell'\n",
    "snr = 20\n",
    "\n",
    "path_nifti1 = os.path.join(root_path, scheme, '{0}_snr'.format(snr), 'gradients', 'data_cat',)\n",
    "path_nifti2 = os.path.join(root_path, scheme, '{0}_snr'.format(snr), 'gradients', 'data_cat', 'mask.nii')\n",
    "path_bv = os.path.join(root_path, scheme, 'scheme')"
   ]
  },
  {
   "cell_type": "markdown",
   "metadata": {},
   "source": [
    "# 1. Transfrom nifti to mif file"
   ]
  },
  {
   "cell_type": "code",
   "execution_count": 6,
   "metadata": {},
   "outputs": [
    {
     "name": "stdout",
     "output_type": "stream",
     "text": [
      "python generate_data/5_nii_to_mif.py --path /mnt/archive/data/synthetic_data/64_points_3_shell/20_snr/gradients/data_cat --path_bvals_bvecs /mnt/archive/data/synthetic_data/64_points_3_shell/scheme\n",
      "0\n"
     ]
    }
   ],
   "source": [
    "cmd = 'python generate_data/5_nii_to_mif.py --path {0} --path_bvals_bvecs {1}'.format(path_nifti1, path_bv)\n",
    "print(cmd)\n",
    "print(os.system(cmd))\n",
    "if os.path.isfile(path_nifti2):\n",
    "    cmd = 'python generate_data/5_nii_to_mif.py --path {0} --path_bvals_bvecs {1} --mask'.format(path_nifti2, path_bv)\n",
    "    print(cmd)\n",
    "    print(os.system(cmd))"
   ]
  },
  {
   "cell_type": "markdown",
   "metadata": {},
   "source": [
    "# 2. RF estimation"
   ]
  },
  {
   "cell_type": "code",
   "execution_count": 7,
   "metadata": {},
   "outputs": [],
   "source": [
    "path = os.path.join(root_path, scheme, '{0}_snr'.format(snr), 'gradients')\n",
    "no_erode = True\n",
    "mask = os.path.join(path, 'data_cat', 'mask.nii')"
   ]
  },
  {
   "cell_type": "markdown",
   "metadata": {},
   "source": [
    "### 1. Tournier (Single Tissue)"
   ]
  },
  {
   "cell_type": "code",
   "execution_count": 8,
   "metadata": {},
   "outputs": [
    {
     "name": "stdout",
     "output_type": "stream",
     "text": [
      "python generate_data/6_rf_estimation.py --path /mnt/archive/data/synthetic_data/64_points_3_shell/20_snr/gradients --method_name tournier --lmax 8\n",
      "0\n"
     ]
    }
   ],
   "source": [
    "method_name = 'tournier'\n",
    "lmax = 8\n",
    "cmd = 'python generate_data/6_rf_estimation.py --path {0} --method_name {1} --lmax {2}'.format(path, method_name, lmax)\n",
    "if os.path.isfile(mask):\n",
    "    cmd += ' --mask {0}'.format(mask)\n",
    "print(cmd)\n",
    "print(os.system(cmd))"
   ]
  },
  {
   "cell_type": "markdown",
   "metadata": {},
   "source": [
    "### 2. Dhollander (Multi Tissues)"
   ]
  },
  {
   "cell_type": "code",
   "execution_count": 9,
   "metadata": {},
   "outputs": [
    {
     "name": "stdout",
     "output_type": "stream",
     "text": [
      "python generate_data/6_rf_estimation.py --path /mnt/archive/data/synthetic_data/64_points_3_shell/20_snr/gradients --method_name dhollander --lmax 10 --no_erode --no_erode\n",
      "0\n"
     ]
    }
   ],
   "source": [
    "method_name = 'dhollander'\n",
    "lmax = 10\n",
    "cmd = 'python generate_data/6_rf_estimation.py --path {0} --method_name {1} --lmax {2} --no_erode'.format(path, method_name, lmax)\n",
    "if os.path.isfile(mask):\n",
    "    cmd += ' --mask {0}'.format(mask)\n",
    "cmd += ' --no_erode'*no_erode\n",
    "print(cmd)\n",
    "print(os.system(cmd))"
   ]
  },
  {
   "cell_type": "code",
   "execution_count": null,
   "metadata": {},
   "outputs": [],
   "source": []
  }
 ],
 "metadata": {
  "kernelspec": {
   "display_name": "s2cnn",
   "language": "python",
   "name": "s2cnn"
  },
  "language_info": {
   "codemirror_mode": {
    "name": "ipython",
    "version": 3
   },
   "file_extension": ".py",
   "mimetype": "text/x-python",
   "name": "python",
   "nbconvert_exporter": "python",
   "pygments_lexer": "ipython3",
   "version": "3.6.10"
  }
 },
 "nbformat": 4,
 "nbformat_minor": 4
}
