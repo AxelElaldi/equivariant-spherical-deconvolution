{
 "cells": [
  {
   "cell_type": "code",
   "execution_count": 1,
   "metadata": {},
   "outputs": [],
   "source": [
    "import os"
   ]
  },
  {
   "cell_type": "code",
   "execution_count": 2,
   "metadata": {},
   "outputs": [],
   "source": [
    "os.chdir('../') # Change working directory to root repository path"
   ]
  },
  {
   "cell_type": "markdown",
   "metadata": {},
   "source": [
    "# 1. Create the ground-truth"
   ]
  },
  {
   "cell_type": "code",
   "execution_count": 35,
   "metadata": {},
   "outputs": [],
   "source": [
    "rand_tensor = True\n",
    "max_tensor = 3\n",
    "rand_angles = True\n",
    "rand_vf_tissue = True\n",
    "rand_vf_fiber = False\n",
    "n_data = 100000\n",
    "n_save = 1000\n",
    "start = 1\n",
    "root_path = '/mnt/archive/data/synthetic_data' # Replace with path where data will be saved"
   ]
  },
  {
   "cell_type": "code",
   "execution_count": 36,
   "metadata": {},
   "outputs": [
    {
     "name": "stdout",
     "output_type": "stream",
     "text": [
      "python generate_data/2_ground_truth_generation.py --max_tensor 3 --n_data 100000 --n_save 1000 --start 1 --path /mnt/archive/data/synthetic_data --rand_tensor --rand_angles --rand_vf_tissue\n"
     ]
    },
    {
     "data": {
      "text/plain": [
       "0"
      ]
     },
     "execution_count": 36,
     "metadata": {},
     "output_type": "execute_result"
    }
   ],
   "source": [
    "cmd = 'python generate_data/2_ground_truth_generation.py --max_tensor {0} --n_data {1} --n_save {2} --start {3} --path {4}'.format(max_tensor, n_data, n_save, start, root_path)\n",
    "cmd += ' --rand_tensor'*rand_tensor\n",
    "cmd += ' --rand_angles'*rand_angles\n",
    "cmd += ' --rand_vf_tissue'*rand_vf_tissue\n",
    "cmd += ' --rand_vf_fiber'*rand_vf_fiber\n",
    "print(cmd)\n",
    "os.system(cmd)"
   ]
  },
  {
   "cell_type": "markdown",
   "metadata": {},
   "source": [
    "# 2. Generate the synthetic dataset"
   ]
  },
  {
   "cell_type": "markdown",
   "metadata": {},
   "source": [
    "To generate the synthetic dataset, you will need a scheme (bvecs and bvals files) and the three tissue response functions matching the scheme bvals.\n",
    "\n",
    "- To use your own scheme, add in the folder scheme_example/ a new directory, nammed it with the name of your scheme, and add the bvals.bvals and the bvecs.bvecs files to it.\n",
    "\n",
    "- The response functions need to have the same shape as the output files from the dwi2rf mrtrix function. "
   ]
  },
  {
   "cell_type": "code",
   "execution_count": 37,
   "metadata": {},
   "outputs": [],
   "source": [
    "snr = 20\n",
    "n_save = 1000\n",
    "base_path = root_path\n",
    "name_scheme = '64_points_3_shell' # Replace with the name of one of the example scheme or your own scheme\n",
    "rf_path = 'scheme_example/64_points_3_shell' # Replace with the path of the response functions you want to use"
   ]
  },
  {
   "cell_type": "code",
   "execution_count": 38,
   "metadata": {},
   "outputs": [
    {
     "name": "stdout",
     "output_type": "stream",
     "text": [
      "python generate_data/3_signal_generation.py --snr 20 --n_save 1000 --base_path /mnt/archive/data/synthetic_data --name_scheme 64_points_3_shell --rf_path scheme_example/64_points_3_shell\n"
     ]
    },
    {
     "data": {
      "text/plain": [
       "0"
      ]
     },
     "execution_count": 38,
     "metadata": {},
     "output_type": "execute_result"
    }
   ],
   "source": [
    "cmd = 'python generate_data/3_signal_generation.py --snr {0} --n_save {1} --base_path {2} --name_scheme {3} --rf_path {4}'.format(snr, n_save, base_path, name_scheme, rf_path)\n",
    "print(cmd)\n",
    "os.system(cmd)"
   ]
  },
  {
   "cell_type": "code",
   "execution_count": 39,
   "metadata": {},
   "outputs": [],
   "source": [
    "path = os.path.join(root_path, name_scheme, '{0}_snr'.format(snr), 'gradients')\n",
    "dim = True"
   ]
  },
  {
   "cell_type": "code",
   "execution_count": 40,
   "metadata": {},
   "outputs": [
    {
     "name": "stdout",
     "output_type": "stream",
     "text": [
      "python generate_data/4_pkl_to_nii.py --path /mnt/archive/data/synthetic_data/64_points_3_shell/20_snr/gradients --dim\n"
     ]
    },
    {
     "data": {
      "text/plain": [
       "0"
      ]
     },
     "execution_count": 40,
     "metadata": {},
     "output_type": "execute_result"
    }
   ],
   "source": [
    "cmd = 'python generate_data/4_pkl_to_nii.py --path {0}'.format(path)\n",
    "cmd += ' --dim'*dim\n",
    "print(cmd)\n",
    "os.system(cmd)"
   ]
  },
  {
   "cell_type": "code",
   "execution_count": null,
   "metadata": {},
   "outputs": [],
   "source": []
  }
 ],
 "metadata": {
  "kernelspec": {
   "display_name": "s2cnn",
   "language": "python",
   "name": "s2cnn"
  },
  "language_info": {
   "codemirror_mode": {
    "name": "ipython",
    "version": 3
   },
   "file_extension": ".py",
   "mimetype": "text/x-python",
   "name": "python",
   "nbconvert_exporter": "python",
   "pygments_lexer": "ipython3",
   "version": "3.6.10"
  }
 },
 "nbformat": 4,
 "nbformat_minor": 4
}
