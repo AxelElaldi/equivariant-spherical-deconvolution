{
 "cells": [
  {
   "cell_type": "code",
   "execution_count": 1,
   "metadata": {},
   "outputs": [],
   "source": [
    "import os"
   ]
  },
  {
   "cell_type": "code",
   "execution_count": 2,
   "metadata": {},
   "outputs": [],
   "source": [
    "os.chdir('../') # Change working directory to root repository path"
   ]
  },
  {
   "cell_type": "code",
   "execution_count": 3,
   "metadata": {},
   "outputs": [],
   "source": [
    "root_path = '/mnt/archive/data/synthetic_data' # Replace with path where data will be saved\n",
    "scheme = '64_points_3_shell'\n",
    "snr = 20\n",
    "\n",
    "model = 'msmt'\n",
    "rf_name = 'dhollander_10_None'\n",
    "path = os.path.join(root_path, scheme, '{0}_snr'.format(snr), 'gradients')\n",
    "path_rf = os.path.join(path, 'response_functions', rf_name)\n",
    "mask = os.path.join(path, 'data_cat', 'mask.nii')\n",
    "gm = True\n",
    "csf = True"
   ]
  },
  {
   "cell_type": "markdown",
   "metadata": {},
   "source": [
    "# 1. Run CSD"
   ]
  },
  {
   "cell_type": "code",
   "execution_count": 4,
   "metadata": {},
   "outputs": [
    {
     "name": "stdout",
     "output_type": "stream",
     "text": [
      "python compare_csd/1_mrtrix_csd.py --path /mnt/archive/data/synthetic_data/64_points_3_shell/20_snr/gradients --path_rf /mnt/archive/data/synthetic_data/64_points_3_shell/20_snr/gradients/response_functions/dhollander_10_None --model msmt --gm --csf\n"
     ]
    },
    {
     "data": {
      "text/plain": [
       "0"
      ]
     },
     "execution_count": 4,
     "metadata": {},
     "output_type": "execute_result"
    }
   ],
   "source": [
    "cmd = 'python compare_csd/1_mrtrix_csd.py --path {0} --path_rf {1} --model {2}'.format(path, path_rf, model)\n",
    "if os.path.isfile(mask):\n",
    "    cmd += ' --mask {0}'.format(mask)\n",
    "cmd += ' --gm'*gm\n",
    "cmd += ' --csf'*csf\n",
    "print(cmd)\n",
    "os.system(cmd)"
   ]
  },
  {
   "cell_type": "markdown",
   "metadata": {},
   "source": [
    "# 2. Transform mif to nifti file"
   ]
  },
  {
   "cell_type": "code",
   "execution_count": 5,
   "metadata": {},
   "outputs": [],
   "source": [
    "wm_mif_path = os.path.join(path, 'result', '{0}_{1}_None'.format(model, rf_name), 'fodf', 'fodf_cat', 'fodf.mif')\n",
    "gm_mif_path = os.path.join(path, 'result', '{0}_{1}_None'.format(model, rf_name), 'fodf', 'fodf_cat', 'fodf_gm.mif')\n",
    "csf_mif_path = os.path.join(path, 'result', '{0}_{1}_None'.format(model, rf_name), 'fodf', 'fodf_cat', 'fodf_csf.mif')"
   ]
  },
  {
   "cell_type": "code",
   "execution_count": 6,
   "metadata": {},
   "outputs": [
    {
     "name": "stdout",
     "output_type": "stream",
     "text": [
      "python generate_data/7_mif_to_nii.py --path /mnt/archive/data/synthetic_data/64_points_3_shell/20_snr/gradients/result/msmt_dhollander_10_None_None/fodf/fodf_cat/fodf.mif\n",
      "python generate_data/7_mif_to_nii.py --path /mnt/archive/data/synthetic_data/64_points_3_shell/20_snr/gradients/result/msmt_dhollander_10_None_None/fodf/fodf_cat/fodf_gm.mif\n",
      "python generate_data/7_mif_to_nii.py --path /mnt/archive/data/synthetic_data/64_points_3_shell/20_snr/gradients/result/msmt_dhollander_10_None_None/fodf/fodf_cat/fodf_csf.mif\n"
     ]
    }
   ],
   "source": [
    "cmd = 'python generate_data/7_mif_to_nii.py --path {0}'.format(wm_mif_path)\n",
    "print(cmd)\n",
    "os.system(cmd)\n",
    "if gm:\n",
    "    cmd = 'python generate_data/7_mif_to_nii.py --path {0}'.format(gm_mif_path)\n",
    "    print(cmd)\n",
    "    os.system(cmd)\n",
    "if csf:\n",
    "    cmd = 'python generate_data/7_mif_to_nii.py --path {0}'.format(csf_mif_path)\n",
    "    print(cmd)\n",
    "    os.system(cmd)"
   ]
  },
  {
   "cell_type": "code",
   "execution_count": null,
   "metadata": {},
   "outputs": [],
   "source": []
  }
 ],
 "metadata": {
  "kernelspec": {
   "display_name": "s2cnn",
   "language": "python",
   "name": "s2cnn"
  },
  "language_info": {
   "codemirror_mode": {
    "name": "ipython",
    "version": 3
   },
   "file_extension": ".py",
   "mimetype": "text/x-python",
   "name": "python",
   "nbconvert_exporter": "python",
   "pygments_lexer": "ipython3",
   "version": "3.6.10"
  }
 },
 "nbformat": 4,
 "nbformat_minor": 4
}
