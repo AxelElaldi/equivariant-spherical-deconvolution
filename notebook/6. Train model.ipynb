{
 "cells": [
  {
   "cell_type": "code",
   "execution_count": 1,
   "metadata": {},
   "outputs": [],
   "source": [
    "import os"
   ]
  },
  {
   "cell_type": "code",
   "execution_count": 2,
   "metadata": {},
   "outputs": [],
   "source": [
    "os.chdir('../') # Change working directory to root repository path"
   ]
  },
  {
   "cell_type": "markdown",
   "metadata": {},
   "source": [
    "# 1. Training parameters"
   ]
  },
  {
   "cell_type": "code",
   "execution_count": 5,
   "metadata": {},
   "outputs": [],
   "source": [
    "root_path = '/mnt/archive/data/synthetic_data' # Replace with path of dataset\n",
    "scheme = '64_points_3_shell' # Replace with scheme\n",
    "snr = 20 # Replace with SNR\n",
    "shell_list = '0,1000,2000,3000' # Replace with bval list\n",
    "\n",
    "batch_size = 32\n",
    "lr = 1.7*1e-2\n",
    "epoch = 50\n",
    "\n",
    "activation = 'relu'\n",
    "normalization = 'batch'\n",
    "pooling = 'max'\n",
    "filter_start = 8\n",
    "max_order = 20\n",
    "interpolation = 'sh'\n",
    "\n",
    "save_every = 1\n",
    "\n",
    "loss_intensity = 'L2'\n",
    "loss_sparsity = 'cauchy'\n",
    "loss_non_negativity = 'L2'\n",
    "\n",
    "sigma_sparsity = 1e-5\n",
    "\n",
    "sparsity_weight = 2e-2\n",
    "intensity_weight = 1\n",
    "nn_fodf_weight = 1\n",
    "\n",
    "rf_name = 'dhollander_10_None' # Replace with RF name\n",
    "wm_path = os.path.join(root_path, scheme, '{0}_snr'.format(snr), 'gradients', 'response_functions', rf_name, 'wm_response.txt')\n",
    "gm_path = os.path.join(root_path, scheme, '{0}_snr'.format(snr), 'gradients', 'response_functions', rf_name, 'gm_response.txt')\n",
    "csf_path = os.path.join(root_path, scheme, '{0}_snr'.format(snr), 'gradients', 'response_functions', rf_name, 'csf_response.txt')\n",
    "\n",
    "val = True\n",
    "threshold = 0.5\n",
    "sep_min = 15\n",
    "max_fiber = 3\n",
    "split_nb = 1\n",
    "\n",
    "fodf_name = False\n",
    "wm_in = False\n",
    "gm_in = False\n",
    "csf_in = False\n",
    "mrtrix_input = False\n",
    "ind_path = None"
   ]
  },
  {
   "cell_type": "markdown",
   "metadata": {},
   "source": [
    "# 2. Train model"
   ]
  },
  {
   "cell_type": "code",
   "execution_count": 6,
   "metadata": {},
   "outputs": [
    {
     "name": "stdout",
     "output_type": "stream",
     "text": [
      "python model/train.py --root_path /mnt/archive/data/synthetic_data --scheme 64_points_3_shell --snr 20 --shell_list 0,1000,2000,3000 --batch_size 32 --lr 0.017 --epoch 50 --activation relu --normalization batch --pooling max --filter_start 8 --max_order 20 --interpolation sh --save_every 1 --loss_intensity L2 --loss_sparsity cauchy --loss_non_negativity L2 --sigma_sparsity 1e-05 --sparsity_weight 0.02 --intensity_weight 1 --nn_fodf_weight 1 --wm_path /mnt/archive/data/synthetic_data/64_points_3_shell/20_snr/gradients/response_functions/dhollander_10_None/wm_response.txt --gm_path /mnt/archive/data/synthetic_data/64_points_3_shell/20_snr/gradients/response_functions/dhollander_10_None/gm_response.txt --csf_path /mnt/archive/data/synthetic_data/64_points_3_shell/20_snr/gradients/response_functions/dhollander_10_None/csf_response.txt --val --threshold 0.5 --sep_min 15 --max_fiber 3 --split_nb 1\n"
     ]
    },
    {
     "data": {
      "text/plain": [
       "0"
      ]
     },
     "execution_count": 6,
     "metadata": {},
     "output_type": "execute_result"
    }
   ],
   "source": [
    "cmd = 'python model/train.py --root_path {0} --scheme {1} --snr {2} --shell_list {3} --batch_size {4} --lr {5} --epoch {6}'.format(root_path, scheme, snr, shell_list, batch_size, lr, epoch)\n",
    "cmd += ' --activation {0} --normalization {1} --pooling {2} --filter_start {3} --max_order {4} --interpolation {5}'.format(activation, normalization, pooling, filter_start, max_order, interpolation)\n",
    "cmd += ' --save_every {0} --loss_intensity {1} --loss_sparsity {2} --loss_non_negativity {3} --sigma_sparsity {4}'.format(save_every, loss_intensity, loss_sparsity, loss_non_negativity, sigma_sparsity)\n",
    "cmd += ' --sparsity_weight {0} --intensity_weight {1} --nn_fodf_weight {2}'.format(sparsity_weight, intensity_weight, nn_fodf_weight)\n",
    "cmd += ' --wm_path {0} --gm_path {1} --csf_path {2}'.format(wm_path, gm_path, csf_path)\n",
    "cmd += ' --val'*val\n",
    "cmd += ' --threshold {0} --sep_min {1} --max_fiber {2} --split_nb {3}'.format(threshold, sep_min, max_fiber, split_nb)\n",
    "cmd += ' --fodf_name'*fodf_name + ' --wm_in'*wm_in + ' --gm_in'*gm_in + ' --csf_in'*csf_in + ' --mrtrix_input'*mrtrix_input\n",
    "if ind_path:\n",
    "    cmd += ' --ind_path {0}'.format(ind_path)\n",
    "print(cmd)\n",
    "os.system(cmd)"
   ]
  },
  {
   "cell_type": "code",
   "execution_count": null,
   "metadata": {},
   "outputs": [],
   "source": []
  }
 ],
 "metadata": {
  "kernelspec": {
   "display_name": "s2cnn",
   "language": "python",
   "name": "s2cnn"
  },
  "language_info": {
   "codemirror_mode": {
    "name": "ipython",
    "version": 3
   },
   "file_extension": ".py",
   "mimetype": "text/x-python",
   "name": "python",
   "nbconvert_exporter": "python",
   "pygments_lexer": "ipython3",
   "version": "3.6.10"
  }
 },
 "nbformat": 4,
 "nbformat_minor": 4
}
